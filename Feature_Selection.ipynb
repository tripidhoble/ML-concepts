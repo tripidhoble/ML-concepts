{
 "cells": [
  {
   "cell_type": "markdown",
   "metadata": {},
   "source": [
    "# 1. Correlation Coefficent"
   ]
  },
  {
   "cell_type": "code",
   "execution_count": 5,
   "metadata": {},
   "outputs": [
    {
     "name": "stdout",
     "output_type": "stream",
     "text": [
      "Id            -0.022336\n",
      "MSSubClass    -0.081002\n",
      "MSZoning      -0.127442\n",
      "LotFrontage    0.192883\n",
      "LotArea        0.258990\n",
      "Name: Class, dtype: float64\n",
      "Index(['OverallQual', 'YearBuilt', 'YearRemodAdd', 'ExterQual', 'BsmtQual',\n",
      "       'TotalBsmtSF', '1stFlrSF', 'GrLivArea', 'FullBath', 'KitchenQual',\n",
      "       'TotRmsAbvGrd', 'GarageCars', 'GarageArea'],\n",
      "      dtype='object')\n",
      "0.722705662820107\n",
      "13\n"
     ]
    },
    {
     "name": "stderr",
     "output_type": "stream",
     "text": [
      "C:\\Users\\tdhoble\\AppData\\Local\\Continuum\\anaconda3\\lib\\site-packages\\ipykernel_launcher.py:21: SettingWithCopyWarning: \n",
      "A value is trying to be set on a copy of a slice from a DataFrame.\n",
      "Try using .loc[row_indexer,col_indexer] = value instead\n",
      "\n",
      "See the caveats in the documentation: http://pandas.pydata.org/pandas-docs/stable/indexing.html#indexing-view-versus-copy\n"
     ]
    }
   ],
   "source": [
    "import numpy as np\n",
    "import pandas as pd\n",
    "import seaborn as sns\n",
    "from matplotlib import pyplot as plt\n",
    "from sklearn.preprocessing import LabelEncoder\n",
    "from sklearn.model_selection import train_test_split\n",
    "from sklearn.linear_model import LinearRegression\n",
    "# Code starts here\n",
    "\n",
    "#Loading of data\n",
    "ames = pd.read_csv(r\"C:\\Users\\tdhoble\\Downloads\\feature_selection.csv\")\n",
    "\n",
    "\n",
    "X=ames.drop(['SalePrice'],1)\n",
    "y=ames['SalePrice'].copy()\n",
    "\n",
    "#Splitting of data\n",
    "X_train, X_test, y_train, y_test= train_test_split(X,y, test_size=0.3, random_state=0) \n",
    "\n",
    "#Creating temp. dataframe\n",
    "X_train['Class']=y_train\n",
    "t_corr=X_train.corr()\n",
    "t_corr=t_corr['Class']\n",
    "\n",
    "print(t_corr.head())\n",
    "\n",
    "#Selecting columns having correlation higher than 0.5\n",
    "corr_columns=t_corr[abs(t_corr)>0.5].index\n",
    "\n",
    "#Dropping the column `Class`\n",
    "corr_columns=corr_columns.drop('Class')\n",
    "print(corr_columns)\n",
    "#Updating train and test dataframes\n",
    "X_train_new=X_train[corr_columns]\n",
    "\n",
    "X_test_new=X_test[corr_columns]\n",
    "\n",
    "#Initialising the model\n",
    "model=LinearRegression()\n",
    "\n",
    "#Fitting the model\n",
    "model.fit(X_train_new,y_train)\n",
    "\n",
    "#Finding the score of the model\n",
    "corr_score=model.score(X_test_new,y_test)\n",
    "print(corr_score)\n",
    "\n",
    "#Checking how many columns were selected\n",
    "print(len(X_train_new.columns))"
   ]
  },
  {
   "cell_type": "markdown",
   "metadata": {},
   "source": [
    "# 2. Chi Squared Test"
   ]
  },
  {
   "cell_type": "code",
   "execution_count": 29,
   "metadata": {},
   "outputs": [
    {
     "name": "stdout",
     "output_type": "stream",
     "text": [
      "X_train: (1022, 80)\n",
      "X_test: (438, 80)\n",
      "X_train_best: (1022, 60)\n",
      "X_test_best: (438, 60)\n",
      "chi2_score:  0.7526152480701623\n"
     ]
    }
   ],
   "source": [
    "# import packages\n",
    "from sklearn.feature_selection import chi2\n",
    "\n",
    "from sklearn.feature_selection import SelectKBest\n",
    "\n",
    "# Code starts here\n",
    "\n",
    "X=ames.drop(['SalePrice'],1)\n",
    "y=ames['SalePrice'].copy()\n",
    "\n",
    "\n",
    "#Splitting dataframe into test and train\n",
    "X_train, X_test, y_train, y_test= train_test_split(X,y, test_size=0.3, random_state=0) \n",
    "\n",
    "print(\"X_train:\",X_train.shape)\n",
    "print(\"X_test:\",X_test.shape)\n",
    "\n",
    "#Initialising the score function\n",
    "test = SelectKBest(score_func=chi2, k=60)\n",
    "\n",
    "#Fitting and transforming the model on X_train\n",
    "X_train_best = test.fit_transform(X_train, y_train)\n",
    "\n",
    "#Fitting and transforming the model on X_test\n",
    "X_test_best = test.transform(X_test)\n",
    "\n",
    "print(\"X_train_best:\",X_train_best.shape)\n",
    "print(\"X_test_best:\",X_test_best.shape)\n",
    "\n",
    "#Initialising the Linear Regression model\n",
    "model=LinearRegression()\n",
    "\n",
    "#Fitting the model\n",
    "model.fit(X_train_best,y_train)\n",
    "\n",
    "#Finding the model score\n",
    "chi2_score=model.score(X_test_best,y_test)\n",
    "\n",
    "print(\"chi2_score: \",chi2_score)\n",
    "# Code ends here"
   ]
  },
  {
   "cell_type": "markdown",
   "metadata": {},
   "source": [
    "\n",
    "# 3. ANOVA "
   ]
  },
  {
   "cell_type": "code",
   "execution_count": 31,
   "metadata": {},
   "outputs": [
    {
     "name": "stdout",
     "output_type": "stream",
     "text": [
      "X_train: (1022, 79)\n",
      "X_test: (438, 79)\n",
      "X_train_best: (1022, 60)\n",
      "X_test_best: (438, 60)\n",
      "f_regress_score:  0.7566701199447428\n"
     ]
    }
   ],
   "source": [
    "# import packages\n",
    "import pandas as pd\n",
    "from sklearn.feature_selection import f_regression\n",
    "\n",
    "from sklearn.feature_selection import SelectKBest\n",
    "\n",
    "# Code starts here\n",
    "X=ames.drop(['Id','SalePrice'],1)\n",
    "y=ames['SalePrice'].copy()\n",
    "\n",
    "# Splitting the dataframe into train and test\n",
    "X_train, X_test, y_train, y_test= train_test_split(X,y, test_size=0.3, random_state=0) \n",
    "\n",
    "print(\"X_train:\",X_train.shape)\n",
    "print(\"X_test:\",X_test.shape)\n",
    "\n",
    "#Initalising the score function\n",
    "test = SelectKBest(score_func=f_regression, k=60)\n",
    "\n",
    "\n",
    "#Fitting and transforming the model on X_train\n",
    "X_train_best = test.fit_transform(X_train, y_train)\n",
    "\n",
    "#Fitting and transforming the model on X_test\n",
    "X_test_best = test.transform(X_test)\n",
    "\n",
    "\n",
    "print(\"X_train_best:\",X_train_best.shape)\n",
    "print(\"X_test_best:\",X_test_best.shape)\n",
    "\n",
    "#Initialising the Linear Regression Model\n",
    "model=LinearRegression()\n",
    "\n",
    "#Fitting the model\n",
    "model.fit(X_train_best,y_train)\n",
    "\n",
    "#Finding the model score\n",
    "f_regress_score=model.score(X_test_best,y_test)\n",
    "print(\"f_regress_score: \", f_regress_score)\n",
    "# Code ends here"
   ]
  },
  {
   "cell_type": "markdown",
   "metadata": {},
   "source": [
    "# 4. Wrapper methods"
   ]
  },
  {
   "cell_type": "code",
   "execution_count": 32,
   "metadata": {},
   "outputs": [
    {
     "name": "stdout",
     "output_type": "stream",
     "text": [
      "No. of features= 30 gives the best score= 0.7627843526086595\n"
     ]
    }
   ],
   "source": [
    "# Feature Extraction with RFE\n",
    "from pandas import read_csv\n",
    "from sklearn.feature_selection import RFE\n",
    "from sklearn.linear_model import LinearRegression\n",
    "from sklearn.ensemble import ExtraTreesClassifier\n",
    "\n",
    "#no of features list\n",
    "nof_list=[20,30,40,50,60,70,80]\n",
    "\n",
    "#Variable to store the highest score\n",
    "high_score=0\n",
    "\n",
    "#Variable to store the optimum features\n",
    "nof=0\n",
    "\n",
    "#Code begins here\n",
    "X = ames.drop(['SalePrice'],1)\n",
    "y=ames['SalePrice'].copy()\n",
    "\n",
    "#Loop to select the optimum features\n",
    "for n in nof_list:\n",
    "    X_train, X_test, y_train, y_test= train_test_split(X,y, test_size=0.3, random_state=0) \n",
    "    model = LinearRegression()\n",
    "    rfe = RFE(model, n)\n",
    "    X_train_rfe = rfe.fit_transform(X_train, y_train)\n",
    "    X_test_rfe = rfe.transform(X_test)\n",
    "    model.fit(X_train_rfe,y_train)\n",
    "    if model.score(X_test_rfe,y_test)>high_score:\n",
    "        high_score=model.score(X_test_rfe,y_test)\n",
    "        nof=n\n",
    "\n",
    "\n",
    "#Printing the no. features with the highest score along with the highest score\n",
    "print(\"No. of features=\",nof, \"gives the best score=\",high_score)"
   ]
  },
  {
   "cell_type": "markdown",
   "metadata": {},
   "source": [
    "# 5. Embedded methods"
   ]
  },
  {
   "cell_type": "code",
   "execution_count": 33,
   "metadata": {},
   "outputs": [
    {
     "name": "stdout",
     "output_type": "stream",
     "text": [
      "lasso_score:  0.6671828548745306\n",
      "lasso coef_:  0\n",
      "ridge_score:  0.67883944067785\n",
      "ridge coef_:  0\n"
     ]
    }
   ],
   "source": [
    "from sklearn.model_selection import train_test_split\n",
    "from sklearn.linear_model import Lasso\n",
    "from sklearn.linear_model import Ridge\n",
    "\n",
    "# Code starts here\n",
    "X_train, X_test, y_train, y_test= train_test_split(X,y, test_size=0.3, random_state=0) \n",
    "\n",
    "#Initialsing \\ lasso model\n",
    "lasso = Lasso(random_state=0)\n",
    "\n",
    "# Fitting the model with train\n",
    "lasso.fit(X_train, y_train)\n",
    "\n",
    "#Finding the score of model\n",
    "lasso_score=lasso.score(X_test,y_test)\n",
    "print(\"lasso_score: \",lasso_score)\n",
    "\n",
    "# checking how many feature coefficients are zero\n",
    "print(\"lasso coef_: \",sum(lasso.coef_ == 0))\n",
    "\n",
    "#Initialising the ridge model\n",
    "ridge=Ridge(random_state=0)\n",
    "# Fitting the model with train\n",
    "ridge.fit(X_train, y_train)\n",
    "\n",
    "#Finding the score of the model\n",
    "ridge_score = ridge.score(X_test,y_test)\n",
    "print(\"ridge_score: \",ridge_score)\n",
    "\n",
    "# checking how many feature coefficients are zero\n",
    "print(\"ridge coef_: \",sum(ridge.coef_ == 0))\n",
    "# Code ends here"
   ]
  },
  {
   "cell_type": "markdown",
   "metadata": {},
   "source": [
    "# 6. PCA"
   ]
  },
  {
   "cell_type": "code",
   "execution_count": 34,
   "metadata": {},
   "outputs": [
    {
     "name": "stdout",
     "output_type": "stream",
     "text": [
      "X_train_scaled:  (1022, 80)\n",
      "X_test_scaled:  (438, 80)\n",
      "X_train_pca:  (1022, 35)\n",
      "X_test_pca:  (438, 35)\n",
      "pca_score:  0.7614586077016585\n"
     ]
    },
    {
     "name": "stderr",
     "output_type": "stream",
     "text": [
      "C:\\Users\\tdhoble\\AppData\\Local\\Continuum\\anaconda3\\lib\\site-packages\\sklearn\\preprocessing\\data.py:645: DataConversionWarning: Data with input dtype int64, float64 were all converted to float64 by StandardScaler.\n",
      "  return self.partial_fit(X, y)\n",
      "C:\\Users\\tdhoble\\AppData\\Local\\Continuum\\anaconda3\\lib\\site-packages\\sklearn\\base.py:464: DataConversionWarning: Data with input dtype int64, float64 were all converted to float64 by StandardScaler.\n",
      "  return self.fit(X, **fit_params).transform(X)\n",
      "C:\\Users\\tdhoble\\AppData\\Local\\Continuum\\anaconda3\\lib\\site-packages\\ipykernel_launcher.py:17: DataConversionWarning: Data with input dtype int64, float64 were all converted to float64 by StandardScaler.\n"
     ]
    }
   ],
   "source": [
    "from sklearn.model_selection import train_test_split\n",
    "from sklearn.preprocessing import StandardScaler\n",
    "from sklearn.decomposition import PCA \n",
    "\n",
    "\n",
    "# Code starts here\n",
    "X=ames.drop(['SalePrice'],1)\n",
    "y=ames['SalePrice'].copy()\n",
    "\n",
    "X_train, X_test, y_train, y_test= train_test_split(X,y, test_size=0.3, random_state=0) \n",
    " \n",
    "#Initialising standard scaler \n",
    "scaler=StandardScaler()\n",
    "\n",
    "#Scaling the features\n",
    "X_train_scaled = scaler.fit_transform(X_train)\n",
    "X_test_scaled = scaler.transform(X_test)\n",
    "\n",
    "print(\"X_train_scaled: \", X_train_scaled.shape)\n",
    "print(\"X_test_scaled: \", X_test_scaled.shape)\n",
    "#Initialising PCA\n",
    "pca = PCA(n_components=35, random_state=0)\n",
    "\n",
    "#Transforming the features\n",
    "X_train_pca = pca.fit_transform(X_train_scaled)\n",
    "X_test_pca=pca.transform(X_test_scaled)\n",
    "\n",
    "print(\"X_train_pca: \", X_train_pca.shape)\n",
    "print(\"X_test_pca: \", X_test_pca.shape)\n",
    "\n",
    "#Initialising the model\n",
    "model=LinearRegression()\n",
    "\n",
    "#Fitting the model\n",
    "model.fit(X_train_pca,y_train)\n",
    "\n",
    "#Scoring the model\n",
    "pca_score=model.score(X_test_pca,y_test)\n",
    "print(\"pca_score: \",pca_score)"
   ]
  },
  {
   "cell_type": "code",
   "execution_count": null,
   "metadata": {},
   "outputs": [],
   "source": []
  },
  {
   "cell_type": "code",
   "execution_count": null,
   "metadata": {},
   "outputs": [],
   "source": []
  }
 ],
 "metadata": {
  "kernelspec": {
   "display_name": "Python 3",
   "language": "python",
   "name": "python3"
  },
  "language_info": {
   "codemirror_mode": {
    "name": "ipython",
    "version": 3
   },
   "file_extension": ".py",
   "mimetype": "text/x-python",
   "name": "python",
   "nbconvert_exporter": "python",
   "pygments_lexer": "ipython3",
   "version": "3.7.3"
  }
 },
 "nbformat": 4,
 "nbformat_minor": 2
}
